{
 "cells": [
  {
   "cell_type": "code",
   "execution_count": 1,
   "id": "f78492f4-2ce7-421e-aed8-50c6d00c2c05",
   "metadata": {},
   "outputs": [],
   "source": [
    "import pandas as pd\n",
    "import os\n",
    "import tiktoken\n",
    "from openai import OpenAI\n",
    "from langchain.text_splitter import RecursiveCharacterTextSplitter\n",
    "from dotenv import load_dotenv\n",
    "import faiss"
   ]
  },
  {
   "cell_type": "code",
   "execution_count": 2,
   "id": "cb3af41f-464f-4fcf-84c3-ab33c1d766e7",
   "metadata": {},
   "outputs": [],
   "source": [
    "load_dotenv() # take environment variables from .env. \n",
    "openai = OpenAI(api_key=os.getenv(\"OPENAI_API_KEY\")) "
   ]
  },
  {
   "cell_type": "code",
   "execution_count": 3,
   "id": "407489c4-3299-4f57-a22a-c065600aab60",
   "metadata": {},
   "outputs": [],
   "source": [
    "def remove_newlines(series): \n",
    "    series = series.str.replace('\\n', ' ') \n",
    "    series = series.str.replace('\\\\n', ' ') \n",
    "    series = series.str.replace('  ', ' ') \n",
    "    series = series.str.replace('  ', ' ') \n",
    "    return series"
   ]
  },
  {
   "cell_type": "code",
   "execution_count": 4,
   "id": "97df5190-7beb-44f4-920a-e5d3ce48c5e1",
   "metadata": {},
   "outputs": [],
   "source": [
    "# Create a list to store the text files \n",
    "texts=[]"
   ]
  },
  {
   "cell_type": "code",
   "execution_count": 5,
   "id": "0993c73e-bb7c-49dd-b811-8503cd225b0c",
   "metadata": {},
   "outputs": [],
   "source": [
    "# Get all the text files in the text directory \n",
    "for file in os.listdir(\"../text/\"): \n",
    "    # Open the file and read the text \n",
    "    with open(\"../text/\" + file, \"r\", encoding=\"UTF-8\") as f:\n",
    "        text = f.read()\n",
    "        # we replace the last 4 characters to get rid of .txt, and replace _ with / to generate the URLs we scraped \n",
    "        filename = file[:-4].replace('_', '/') \n",
    "        \"\"\" \n",
    "        There are a lot of contributor.txt files that got included in the scrape, this weeds them out. There are also a lot of auth required urls that have been scraped to weed out as well \n",
    "        \"\"\"  \n",
    "    if filename.endswith(\".txt\") or 'users/fxa/login' in filename: \n",
    "        continue\n",
    "\n",
    "    \n",
    "    \n",
    "    # then we replace underscores with / to get the actual links so we can cite contributions \n",
    "    texts.append( \n",
    "      (filename, text))"
   ]
  },
  {
   "cell_type": "code",
   "execution_count": 6,
   "id": "e398c370-81c0-4eab-b20d-168e1e4dee4e",
   "metadata": {},
   "outputs": [],
   "source": [
    "# Create a dataframe from the list of texts \n",
    "df = pd.DataFrame(texts, columns=['fname', 'text']) "
   ]
  },
  {
   "cell_type": "code",
   "execution_count": 7,
   "id": "a0370492-9e40-4c04-a286-a462d0eb3e21",
   "metadata": {},
   "outputs": [
    {
     "data": {
      "text/html": [
       "<div>\n",
       "<style scoped>\n",
       "    .dataframe tbody tr th:only-of-type {\n",
       "        vertical-align: middle;\n",
       "    }\n",
       "\n",
       "    .dataframe tbody tr th {\n",
       "        vertical-align: top;\n",
       "    }\n",
       "\n",
       "    .dataframe thead th {\n",
       "        text-align: right;\n",
       "    }\n",
       "</style>\n",
       "<table border=\"1\" class=\"dataframe\">\n",
       "  <thead>\n",
       "    <tr style=\"text-align: right;\">\n",
       "      <th></th>\n",
       "      <th>fname</th>\n",
       "      <th>text</th>\n",
       "    </tr>\n",
       "  </thead>\n",
       "  <tbody>\n",
       "    <tr>\n",
       "      <th>0</th>\n",
       "      <td></td>\n",
       "      <td>AIX Academy – Build. Accelerate. Launch.\\nBuil...</td>\n",
       "    </tr>\n",
       "    <tr>\n",
       "      <th>1</th>\n",
       "      <td>blog/</td>\n",
       "      <td>Blog – AIX Academy\\nAIX ACADEMY BLOG\\nStay upd...</td>\n",
       "    </tr>\n",
       "    <tr>\n",
       "      <th>2</th>\n",
       "      <td>2024/07/11/</td>\n",
       "      <td>11 July 2024 – AIX Academy\\nAIX Academy\\nSign ...</td>\n",
       "    </tr>\n",
       "    <tr>\n",
       "      <th>3</th>\n",
       "      <td>the-rise-of-generative-ai-exploring-creative-m...</td>\n",
       "      <td>The Birth of Our AIX Academy – AIX Academy\\nTh...</td>\n",
       "    </tr>\n",
       "    <tr>\n",
       "      <th>4</th>\n",
       "      <td>application-process/</td>\n",
       "      <td>Application Process – AIX Academy\\nApplication...</td>\n",
       "    </tr>\n",
       "    <tr>\n",
       "      <th>5</th>\n",
       "      <td>privacy-policy/</td>\n",
       "      <td>Privacy Policy – AIX Academy\\nPrivacy Policy\\n...</td>\n",
       "    </tr>\n",
       "    <tr>\n",
       "      <th>6</th>\n",
       "      <td>contact-aix/</td>\n",
       "      <td>Contact AIX – AIX Academy\\nContact AIX.\\nWheth...</td>\n",
       "    </tr>\n",
       "    <tr>\n",
       "      <th>7</th>\n",
       "      <td>zero-to-hero-practical-ai-engineering/</td>\n",
       "      <td>Zero-to-Hero: Practical AI Engineering – AIX A...</td>\n",
       "    </tr>\n",
       "    <tr>\n",
       "      <th>8</th>\n",
       "      <td>full-stack-ai-engineering/</td>\n",
       "      <td>Full Stack AI Engineering – AIX Academy\\nOur F...</td>\n",
       "    </tr>\n",
       "    <tr>\n",
       "      <th>9</th>\n",
       "      <td>aix-academy-syllabus</td>\n",
       "      <td>Zero-to-Hero: Practical AI Engineering\\nDurati...</td>\n",
       "    </tr>\n",
       "    <tr>\n",
       "      <th>10</th>\n",
       "      <td>about-us/</td>\n",
       "      <td>About Us – AIX Academy\\nWelcome to AIX Academy...</td>\n",
       "    </tr>\n",
       "    <tr>\n",
       "      <th>11</th>\n",
       "      <td>terms-conditions/</td>\n",
       "      <td>Terms &amp; Conditions – AIX Academy\\nTerms &amp; Cond...</td>\n",
       "    </tr>\n",
       "    <tr>\n",
       "      <th>12</th>\n",
       "      <td>author/eric/</td>\n",
       "      <td>Eric Tan – AIX Academy\\nAuthor:\\nEric Tan\\nThe...</td>\n",
       "    </tr>\n",
       "  </tbody>\n",
       "</table>\n",
       "</div>"
      ],
      "text/plain": [
       "                                                fname  \\\n",
       "0                                                       \n",
       "1                                               blog/   \n",
       "2                                         2024/07/11/   \n",
       "3   the-rise-of-generative-ai-exploring-creative-m...   \n",
       "4                                application-process/   \n",
       "5                                     privacy-policy/   \n",
       "6                                        contact-aix/   \n",
       "7              zero-to-hero-practical-ai-engineering/   \n",
       "8                          full-stack-ai-engineering/   \n",
       "9                                aix-academy-syllabus   \n",
       "10                                          about-us/   \n",
       "11                                  terms-conditions/   \n",
       "12                                       author/eric/   \n",
       "\n",
       "                                                 text  \n",
       "0   AIX Academy – Build. Accelerate. Launch.\\nBuil...  \n",
       "1   Blog – AIX Academy\\nAIX ACADEMY BLOG\\nStay upd...  \n",
       "2   11 July 2024 – AIX Academy\\nAIX Academy\\nSign ...  \n",
       "3   The Birth of Our AIX Academy – AIX Academy\\nTh...  \n",
       "4   Application Process – AIX Academy\\nApplication...  \n",
       "5   Privacy Policy – AIX Academy\\nPrivacy Policy\\n...  \n",
       "6   Contact AIX – AIX Academy\\nContact AIX.\\nWheth...  \n",
       "7   Zero-to-Hero: Practical AI Engineering – AIX A...  \n",
       "8   Full Stack AI Engineering – AIX Academy\\nOur F...  \n",
       "9   Zero-to-Hero: Practical AI Engineering\\nDurati...  \n",
       "10  About Us – AIX Academy\\nWelcome to AIX Academy...  \n",
       "11  Terms & Conditions – AIX Academy\\nTerms & Cond...  \n",
       "12  Eric Tan – AIX Academy\\nAuthor:\\nEric Tan\\nThe...  "
      ]
     },
     "execution_count": 7,
     "metadata": {},
     "output_type": "execute_result"
    }
   ],
   "source": [
    "df"
   ]
  },
  {
   "cell_type": "code",
   "execution_count": 8,
   "id": "8fb7c59d-4ced-4d78-9dad-0d5d0c978e11",
   "metadata": {},
   "outputs": [],
   "source": [
    "# Set the text column to be the raw text with the newlines removed \n",
    "df['text'] = df.fname + \". \" + remove_newlines(df.text) \n",
   ]
  },
  {
   "cell_type": "code",
   "execution_count": 9,
   "id": "d211e27d-b7f5-45c4-ad27-d9bb4bc9e95c",
   "metadata": {},
   "outputs": [],
   "source": [
    "# Load the cl100k_base tokenizer which is designed to work with the ada-002 model \n",
    "tokenizer = tiktoken.get_encoding(\"cl100k_base\")\n",
    "df = pd.read_csv('../processed/scraped.csv', index_col=0)\n",
    "df.columns = ['title', 'text']\n",
    "\n",
    "# Tokenize the text and save the number of tokens to a new column \n",
    "df['n_tokens'] = df.text.apply(lambda x: len(tokenizer.encode(x)))"
   ]
  },
  {
   "cell_type": "code",
   "execution_count": 10,
   "id": "50cf04ac-68f1-4b78-bc62-96600b633af1",
   "metadata": {},
   "outputs": [],
   "source": [
    "# Tokenizing the CSV\n",
    "chunk_size = 700  # Max number of tokens \n",
    "\n",
    "text_splitter = RecursiveCharacterTextSplitter( \n",
    "    # This could be replaced with a token counting function if needed \n",
    "    length_function = len,\n",
    "    chunk_size = chunk_size,\n",
    "    chunk_overlap  = 100,  # No overlap between chunks \n",
    "    add_start_index = False,  # We don't need start index in this case \n",
    ") \n",
    "\n",
    "shortened = [] "
   ]
  },
  {
   "cell_type": "code",
   "execution_count": 11,
   "id": "059358cd-76a1-4478-a2c1-27aff493013a",
   "metadata": {},
   "outputs": [],
   "source": [
    "for row in df.iterrows(): \n",
    "    # If the text is None, go to the next row \n",
    "    if row[1]['text'] is None: \n",
    "        continue \n",
    "\n",
    "  # If the number of tokens is greater than the max number of tokens, split the text into chunks \n",
    "    if row[1]['n_tokens'] > chunk_size: \n",
    "        # Split the text using LangChain's text splitter \n",
    "        chunks = text_splitter.create_documents([row[1]['text']]) \n",
    "\n",
    "        # Append the content of each chunk to the 'shortened' list \n",
    "        for chunk in chunks:\n",
    "            shortened.append(chunk.page_content)\n",
    "\n",
    "  # Otherwise, add the text to the list of shortened texts \n",
    "    else: \n",
    "        shortened.append(row[1]['text']) "
   ]
  },
  {
   "cell_type": "code",
   "execution_count": 12,
   "id": "01cb0a1c-ee3b-4450-9d9c-ad1cb7990c7f",
   "metadata": {},
   "outputs": [],
   "source": [
    "df = pd.DataFrame(shortened, columns=['text']) \n",
    "df['n_tokens'] = df.text.apply(lambda x: len(tokenizer.encode(x)))"
   ]
  },
  {
   "cell_type": "code",
   "execution_count": 13,
   "id": "a4c76dc9-cdea-446d-bf56-9cc3b1009028",
   "metadata": {},
   "outputs": [],
   "source": [
    "df['embeddings'] = df.text.apply(lambda x: openai.embeddings.create(\n",
    "    input=x, model='text-embedding-ada-002').data[0].embedding)"
   ]
  },
  {
   "cell_type": "code",
   "execution_count": 14,
   "id": "54f1896b-c5ef-4e8b-a8cd-da073b9279c0",
   "metadata": {},
   "outputs": [],
   "source": [
   ]
  },
  {
   "cell_type": "markdown",
   "id": "d2efb37a-d214-4bde-bda8-675f7d64b113",
   "metadata": {},
   "source": [
    "## Bringing to FAISS"
   ]
  },
  {
   "cell_type": "code",
   "execution_count": 15,
   "id": "cd64e1f4-7906-4ede-9bbf-990ba3db455d",
   "metadata": {},
   "outputs": [],
   "source": [
    "import numpy as np\n",
    "vectors = np.vstack(df['embeddings'].values).astype(np.float32)"
   ]
  },
  {
   "cell_type": "code",
   "execution_count": 16,
   "id": "19e853ae-1527-46ff-b42c-c7cbfb586a33",
   "metadata": {},
   "outputs": [],
   "source": [
    "# Create the FAISS index\n",
    "d = vectors.shape[1]  # Dimensionality of the vectors\n",
    "index = faiss.IndexFlatL2(d)\n",
    "\n",
    "# Add vectors to the index\n",
    "index.add(vectors)"
   ]
  },
  {
   "cell_type": "code",
   "execution_count": 17,
   "id": "eadd9011-5719-492a-8f8d-909e133f375e",
   "metadata": {},
   "outputs": [
    {
     "data": {
      "text/plain": [
       "{0: '. AIX Academy – Build. Accelerate. Launch. Build. Accelerate. Launch. Join our immersive courses in web development, data and AI to transform your career and access new opportunities. Browse Courses COMPANIES OUR GRADS HAVE WORKED WITH OUR PROGRAM AI Engineering Bootcamp comes in the form of customizable learning paths, from learning the fundamentals to gaining advanced mastery Zero-to-Hero: Practical AI Engineering 3 Weeks // 6 Sessions // Online Learning Foundational skills and tools needed to navigate the complex landscape of artificial intelligence Know More LEARNING EXPERIENCE Interactive Live Sessions Engage with experts and peers in live, interactive sessions to deepen your understanding and solve real-time problems. Practical Projects and Assignments Apply your skills in multiple projects designed to challenge and enhance your learning, with guided feedback from instructors. Real-World Projects & Demo Day Solve practical AI problems, present on Demo Day, showcase the innovative solution and network with industry leaders. OUR ALUMNI The course provided me with a comprehensive understanding of AI Engineering fundamentals in just three months. Unlike traditional academic settings, which often focus solely on theory, AIX Academy’s hands-on approach allowed me to immediately apply what I learned to real-world scenarios. Marie Chong, AIX Academy Grad “I had an exceptional experience at AIX Academy. The course provided me with a comprehensive understanding of AI Engineering fundamentals in just three months. Unlike traditional academic settings, which often focus solely on theory, AIX Academy’s hands-on approach allowed me to immediately apply what I learned to real-world scenarios. The curriculum at AIX Academy covers a wide range of essential topics, from Python programming and data structures to core software engineering practices like Git and GitHub. Additionally, the emphasis on data analysis and manipulation using Pandas and NumPy, coupled with an introduction to data engineering concepts, equipped me with practical skills crucial for today’s tech industry.” Marie Chong, AIX Academy Grad More Alumni Join an upcoming cohort AI X Academy COST RM 4,000 COURSE CODE ZTH:PAIE DATES 20 Aug – 3 Sep, 2024 APPLICATION DEADLINE 19 Aug, 2024 COST RM 4,000 COURSE CODE ZTH:PAIE DATES 20 Aug – 3 Sep, 2024 APPLICATION DEADLINE 19 Aug, 2024 Apply Now Subscribe to our Newsletter! Be the first to get exclusive offers on AIX’s courses and the latest news on the academy Subscribe Now Menu Quick Links Contact Home About Us Contact Us Our Blogs Our Program AIX Academy by GradientX Sdn. Bhd. (202101021755) Address: Level 3A, Glo Damansara, 699 Jalan Damansara, 60000 Kuala Lumpur, Malaysia Contact: hello@aixacademy.com Connect with Us on Social Media. © Copyright AIX Academy by GradientX Sdn Bhd Terms & Conditions | Privacy Policy Menu Home About Us Contact Us Quick Links Our Blogs Our Program Contact AIX Academy by GradientX Sdn. Bhd. ( 202101021755 ) Address: Level 3A, Glo Damansara, 699 Jalan Damansara, 60000 Kuala Lumpur, Malaysia Contact: hello@aixacademy.com © Copyright AIX Academy by GradientX Sdn Bhd Terms & Conditions | Privacy Policy',\n",
       " 1: 'blog/. Blog – AIX Academy AIX ACADEMY BLOG Stay updated with the latest AI industry news, career tips, and alumni stories from AIX Academy. Our blog covers education trends, hiring insights, and expert advice to help you succeed in the tech world. Stay updated with the latest AI industry news from AIX Academy. Search Search The Birth of Our AIX Academy Read More 11 July 2024 Menu Quick Links Contact Home About Us Contact Us Our Blogs Our Program AIX Academy by GradientX Sdn. Bhd. (202101021755) Address: Level 3A, Glo Damansara, 699 Jalan Damansara, 60000 Kuala Lumpur, Malaysia Contact: hello@aixacademy.com Connect with Us on Social Media. © Copyright AIX Academy by GradientX Sdn Bhd Terms & Conditions | Privacy Policy Menu Home About Us Contact Us Quick Links Our Blogs Our Program Contact AIX Academy by GradientX Sdn. Bhd. ( 202101021755 ) Address: Level 3A, Glo Damansara, 699 Jalan Damansara, 60000 Kuala Lumpur, Malaysia Contact: hello@aixacademy.com © Copyright AIX Academy by GradientX Sdn Bhd Terms & Conditions | Privacy Policy',\n",
       " 2: '2024/07/11/. 11 July 2024 – AIX Academy AIX Academy Sign up for our Zero-to-Hero: Practical AI Engineering course today! Sign up for our Zero-to-Hero course today! Day: July 11, 2024 The Birth of Our AIX Academy In this article, we want to share the story behind our AI Academy, how the concept was born, and our vision for the future. A World of Opportunities in Artificial Intelligence \\xa0 \\xa0 \\xa0With decades of combined experience in the data science and AI field, our team has witnessed the transformative impact of artificial intelligence […] Menu Quick Links Contact Home About Us Contact Us Our Blogs Our Program AIX Academy by GradientX Sdn. Bhd. (202101021755) Address: Level 3A, Glo Damansara, 699 Jalan Damansara, 60000 Kuala Lumpur, Malaysia Contact: hello@aixacademy.com Connect with Us on Social Media. © Copyright AIX Academy by GradientX Sdn Bhd Terms & Conditions | Privacy Policy Menu Home About Us Contact Us Quick Links Our Blogs Our Program Contact AIX Academy by GradientX Sdn. Bhd. ( 202101021755 ) Address: Level 3A, Glo Damansara, 699 Jalan Damansara, 60000 Kuala Lumpur, Malaysia Contact: hello@aixacademy.com © Copyright AIX Academy by GradientX Sdn Bhd Terms & Conditions | Privacy Policy',\n",
       " 3: 'the-rise-of-generative-ai-exploring-creative-machines/. The Birth of Our AIX Academy – AIX Academy The Birth of Our AIX Academy Written by: Eric Tan Published on: 11 July 2024 In this article, we want to share the story behind our AI Academy, how the concept was born, and our vision for the future. A World of Opportunities in Artificial Intelligence With decades of combined experience in the data science and AI field, our team has witnessed the transformative impact of artificial intelligence across various industries. As co-founders of this academy and long-time AI practitioners, we have always been at the forefront of AI innovation. Recognizing the vast potential of AI, particularly in the',\n",
       " 4: 'been at the forefront of AI innovation. Recognizing the vast potential of AI, particularly in the realm of large language models (LLMs) and their ability to revolutionize industries, we have continuously sought to bridge the gap between cutting-edge AI technologies and practical implementation. Our deep understanding of the industry’s needs and challenges inspired us to create an educational platform that would empower individuals to harness the full potential of AI. The Need for Practical AI Education While working on various tech projects, a recurring challenge became evident: many talented developers and tech enthusiasts were eager to enter the AI field but lacked the structured',\n",
       " 5: 'talented developers and tech enthusiasts were eager to enter the AI field but lacked the structured knowledge and hands-on experience to do so effectively. Traditional computer science programs often focused heavily on theory, while many online courses barely scratched the surface of what’s needed in real-world AI engineering. This observation led to a crucial question: What if we could create a program that bridges this gap? What if we could empower individuals to go from zero knowledge in AI to being capable of building and deploying scalable AI models in just a matter of weeks? Validating the Concept To validate this concept, we focused on three key areas: Could a curriculum be created',\n",
       " 6: 'the Concept To validate this concept, we focused on three key areas: Could a curriculum be created that covers both foundational and advanced AI concepts in a short time frame? Would it be possible to provide hands-on, practical experience with the latest AI tools and frameworks? Could this education be made accessible to individuals with varying levels of programming experience? After extensive research and consultation with industry experts, it became clear that not only were these goals achievable, but there was also a significant demand for such a program. The Birth of the Zero-to-Hero AI Engineering Bootcamp With the concept validated, we set out to create our first course in',\n",
       " 7: 'AI Engineering Bootcamp With the concept validated, we set out to create our first course in Zero-to-Hero: Practical AI Engineering bootcamp. The goal was to design an intensive three-week program that would equip students with the skills needed to navigate the complex landscape of artificial intelligence. The course was structured to progress from foundational programming skills to advanced AI concepts, ensuring that even those with minimal coding experience could follow along. The curriculum includes: Foundations of AI and LLMs Prompt engineering techniques Retrieval-Augmented Generation (RAG) AI-powered code generation and function calling Multi-modal AI Applications AI Engineering and',\n",
       " 8: 'AI-powered code generation and function calling Multi-modal AI Applications AI Engineering and Deployment Fine-tuning models and quantization techniques AI agents Evaluating and scaling AI solutions in production How People Are Using it Today One of the most rewarding aspects of launching the AI Engineering Academy has been seeing how graduates apply their newfound skills. A variety of exciting implementations have emerged, including: Developing AI-powered chat-bots for customer service. Creating content generation tools for marketing agencies. Building recommendation systems for e-commerce platforms. Developing AI agents for process automation in various industries. The Future of Our AI',\n",
       " 9: 'platforms. Developing AI agents for process automation in various industries. The Future of Our AI Engineering Academy Looking to the future, the commitment is to continuously evolve the curriculum to keep pace with the rapidly changing AI landscape. Plans include introducing new modules on emerging technologies, expanding the network of industry partners for real-world projects, and potentially offering advanced specialization tracks. Exploring the possibility of launching an online platform to make this education accessible to a global audience is also on the agenda, along with developing corporate training programs to help businesses up-skill their workforce in AI technologies. The',\n",
       " 10: 'corporate training programs to help businesses up-skill their workforce in AI technologies. The vision is to become a leading force in practical AI education, empowering individuals and organizations to harness the power of artificial intelligence and drive innovation across industries. Brand Story: AIX Academy – Where AI Meets Everything AIX Academy is more than just an educational platform; it represents the convergence of Artificial Intelligence (AI) with an infinite array of possibilities. The ‘X’ in AIX symbolizes the variable that can be anything and everything within the realm of AI. It stands for the unknown, the potential, and the transformative power that AI can bring to diverse',\n",
       " 11: 'It stands for the unknown, the potential, and the transformative power that AI can bring to diverse fields. From healthcare to finance, from manufacturing to creative arts, AIX Academy is dedicated to exploring and expanding the boundaries of what AI can achieve. By democratizing AI education, AIX Academy aims to accelerate AI adoption across sectors, drive innovation in both business and social spheres, bridge the global AI skills gap, and create a community of skilled AI practitioners and thought leaders. Ready to start your AI journey? Check out the course syllabus and begin your transformation from zero to AI hero with the upcoming boot-camp! You Might Also Like If you enjoyed this',\n",
       " 12: 'from zero to AI hero with the upcoming boot-camp! You Might Also Like If you enjoyed this article, we invite you to check out more content on our AIX Academy blog. See More Menu Quick Links Contact Home About Us Contact Us Our Blogs Our Program AIX Academy by GradientX Sdn. Bhd. (202101021755) Address: Level 3A, Glo Damansara, 699 Jalan Damansara, 60000 Kuala Lumpur, Malaysia Contact: hello@aixacademy.com Connect with Us on Social Media. © Copyright AIX Academy by GradientX Sdn Bhd Terms & Conditions | Privacy Policy Menu Home About Us Contact Us Quick Links Our Blogs Our Program Contact AIX Academy by GradientX Sdn. Bhd. ( 202101021755 ) Address: Level 3A, Glo Damansara, 699 Jalan',\n",
       " 13: 'AIX Academy by GradientX Sdn. Bhd. ( 202101021755 ) Address: Level 3A, Glo Damansara, 699 Jalan Damansara, 60000 Kuala Lumpur, Malaysia Contact: hello@aixacademy.com © Copyright AIX Academy by GradientX Sdn Bhd Terms & Conditions | Privacy Policy',\n",
       " 14: 'application-process/. Application Process – AIX Academy Application Process Complete the first step here. Name Surname Email Telephone No. Intended Course and Intake Zero-to-Hero: Practical AI Engineering AIX Course Application Why do you want to apply for the selected AIX course? * Tell us about yourself, your goals, and why you want to pursue the course with us. Our team will review your response, so it will be incorporated in your evaluation moving forward with the application process. Submit 3 Simple Steps Apply Online Begin your application by filling out our online form. Provide basic information about your background and your motivation for joining the AI Engineering Bootcamp Complete AI Readiness Quiz Take our brief, engaging AI Readiness Quiz. This quiz is designed to: Gauge your current understanding of AI concepts. Assess your problem-solving skills. Help you identify areas for growth Don’t worry if you’re new to AI – this quiz is meant to establish a baseline and help us tailor the bootcamp experience. Await Your Results Our team will review your application and quiz results. Successful candidates will receive an admission offer and next steps to secure their spot in the upcoming bootcamp cohort. At AIX Academy, we believe in equal opportunity and potential. Our streamlined process is designed to identify motivated individuals ready to transform their careers, regardless of their current AI knowledge\\xa0level. Once the form is submitted, keep an eye on your inbox. Our team will reach out to you for the subsequent steps. Menu Quick Links Contact Home About Us Contact Us Our Blogs Our Program AIX Academy by GradientX Sdn. Bhd. (202101021755) Address: Level 3A, Glo Damansara, 699 Jalan Damansara, 60000 Kuala Lumpur, Malaysia Contact: hello@aixacademy.com Connect with Us on Social Media. © Copyright AIX Academy by GradientX Sdn Bhd Terms & Conditions | Privacy Policy Menu Home About Us Contact Us Quick Links Our Blogs Our Program Contact AIX Academy by GradientX Sdn. Bhd. ( 202101021755 ) Address: Level 3A, Glo Damansara, 699 Jalan Damansara, 60000 Kuala Lumpur, Malaysia Contact: hello@aixacademy.com © Copyright AIX Academy by GradientX Sdn Bhd Terms & Conditions | Privacy Policy',\n",
       " 15: 'privacy-policy/. Privacy Policy – AIX Academy Privacy Policy Effective Date: July 1, 2024 1. Introduction AIX Academy by GradientX Sdn. Bhd. (“we”, “us”, “our”) operates the AIX Academy website ( https://aixacademy.com/ ) (“Service”). This Privacy Policy outlines how we collect, use, and protect your personal information when you use our Service. 2. Information We Collect We collect several types of information for various purposes to provide and improve our Service to you: Personal Data: Includes information such as your name, email address, phone number, address, and any other information you voluntarily provide. Usage Data: Automatically collected data about your interactions with our',\n",
       " 16: 'you voluntarily provide. Usage Data: Automatically collected data about your interactions with our Service, such as IP address, browser type, pages visited, and time spent on those pages. Cookies: We use cookies and similar tracking technologies to enhance your experience on our website and gather information about how you use and navigate our Service. 3. Use of Information We use the collected data for the following purposes: To provide and maintain our Service. To notify you about changes to our Service or new offerings. To improve and customize our Service based on usage patterns. To communicate with you, either directly or through our partners, regarding our Service. To process',\n",
       " 17: 'To communicate with you, either directly or through our partners, regarding our Service. To process transactions and provide customer support. To comply with legal obligations. 4. Legal Basis for Processing We process your personal data based on the following legal grounds: Performance of a contract: To fulfill our obligations to you when you use our Service. Consent: When you provide us with your explicit consent to process your information for specified purposes. Legitimate interests: To pursue our legitimate interests in providing, maintaining, and improving our Service, unless overridden by your rights and interests. Legal obligations: To comply with applicable laws and regulations. 5.',\n",
       " 18: 'by your rights and interests. Legal obligations: To comply with applicable laws and regulations. 5. Data Retention We will retain your personal data only for as long as necessary for the purposes set out in this Privacy Policy or as required by law. We will retain and use your information to the extent necessary to comply with our legal obligations, resolve disputes, and enforce our policies. 6. Data Security The security of your data is important to us. We implement reasonable security measures to protect your personal information from unauthorized access, alteration, disclosure, or destruction. 7. Your Rights Depending on your location, you may have certain rights regarding your personal',\n",
       " 19: '7. Your Rights Depending on your location, you may have certain rights regarding your personal data, including: The right to access and obtain a copy of your personal data. The right to rectify inaccuracies in your personal data. The right to erase your personal data. The right to restrict the processing of your personal data. The right to object to the processing of your personal data. The right to data portability. To exercise these rights or if you have any questions about your data, please contact us using the information provided below. 8. Third-Party Services We may use third-party companies and individuals to facilitate our Service, provide the Service on our behalf, perform',\n",
       " 20: 'companies and individuals to facilitate our Service, provide the Service on our behalf, perform Service-related services, or assist us in analyzing how Menu Quick Links Contact Home About Us Contact Us Our Blogs Our Program AIX Academy by GradientX Sdn. Bhd. (202101021755) Address: Level 3A, Glo Damansara, 699 Jalan Damansara, 60000 Kuala Lumpur, Malaysia Contact: hello@aixacademy.com Connect with Us on Social Media. © Copyright AIX Academy by GradientX Sdn Bhd Terms & Conditions | Privacy Policy Menu Home About Us Contact Us Quick Links Our Blogs Our Program Contact AIX Academy by GradientX Sdn. Bhd. ( 202101021755 ) Address: Level 3A, Glo Damansara, 699 Jalan Damansara, 60000 Kuala',\n",
       " 21: 'Sdn. Bhd. ( 202101021755 ) Address: Level 3A, Glo Damansara, 699 Jalan Damansara, 60000 Kuala Lumpur, Malaysia Contact: hello@aixacademy.com © Copyright AIX Academy by GradientX Sdn Bhd Terms & Conditions | Privacy Policy',\n",
       " 22: 'contact-aix/. Contact AIX – AIX Academy Contact AIX. Whether you seek answers to inquiries, further insights into our courses, or are prepared to embark on a journey into AI, we are eager to connect with you. Office Address Level 3A, Glo Damansara, 699 Jalan Damansara, 60000 Kuala Lumpur, Malaysia Phone +6012 744 0166 WhatsApp +6012 744 0166 Email hello@aixacademy.com Full Name Email Phone Message Submit Full Name Email Phone Message Submit Menu Quick Links Contact Home About Us Contact Us Our Blogs Our Program AIX Academy by GradientX Sdn. Bhd. (202101021755) Address: Level 3A, Glo Damansara, 699 Jalan Damansara, 60000 Kuala Lumpur, Malaysia Contact: hello@aixacademy.com Connect with Us on Social Media. © Copyright AIX Academy by GradientX Sdn Bhd Terms & Conditions | Privacy Policy Menu Home About Us Contact Us Quick Links Our Blogs Our Program Contact AIX Academy by GradientX Sdn. Bhd. ( 202101021755 ) Address: Level 3A, Glo Damansara, 699 Jalan Damansara, 60000 Kuala Lumpur, Malaysia Contact: hello@aixacademy.com © Copyright AIX Academy by GradientX Sdn Bhd Terms & Conditions | Privacy Policy',\n",
       " 23: 'zero-to-hero-practical-ai-engineering/. Zero-to-Hero: Practical AI Engineering – AIX Academy Online Learning | 3 Weeks | 6 Sessions Zero-to-Hero: Practical AI Engineering Kick-start your journey into the world of AI engineering with our introductory track. Apply Now Companies Our Grads Have Worked With What You’ll Learn What You’ll Gain Course Features Course Syllabus Application Course Schedule FAQs What you will learn in Zero-to-Hero: Practical AI Engineering This 3 weeks intensive course is designed to equip you with practical skills and tools needed to engineer and deploy artificial intelligence solutions. You’ll learn through a combination of theoretical lessons and hands-on projects,',\n",
       " 24: 'solutions. You’ll learn through a combination of theoretical lessons and hands-on projects, covering the latest advancements in AI, from large language models to multi-modal applications. This track emphasizes practical implementation and real-world applications of AI technologies. Develop proficiency in Python programming. Understand data structures and algorithms. Grasp core software engineering practices for version control. Master data analysis and manipulation techniques using Pandas and NumPy. Gain an introduction to data engineering concepts for data preparation. Learn basic SQL for interacting with databases. Be introduced to fundamental machine learning concepts, supervised and',\n",
       " 25: 'interacting with databases. Be introduced to fundamental machine learning concepts, supervised and unsupervised learning, and model evaluation. What You’ll Gain Ability to build and deploy scalabel AI model Proficiency in multiple AI and machine learning tools and frameworks. Network with like-minded individuals, collaborate on projects and gain valuable insights into the ever-evolving world of AI engineering. Portfolio of projects demonstrating proficiency in AI development. Career transformation in the form of gaining the knowledge and skills to impact real-world challenges, whether first joining as a novice or seasoned professional. Course Features Private Discord community access.',\n",
       " 26: 'joining as a novice or seasoned professional. Course Features Private Discord community access. Certificate of completion upon finishing the program. Interactive live sessions. Practical projects and assignments. Lifetime access to course material and resources. Professional networking. Real-world projects & demo day. Course Syllabus Session 1 Foundations of AI and Large Language Models (LLMs) Build your understanding on GPTs, LLMs and build your very own AI Chatbot. Session 2 Prompt Engineering and Retrieval-Augmented Generation (RAG) Craft effective prompts, understandin retrieval and generation synergy, and enhance AI with vector databases, culminating in practical RAG system integration',\n",
       " 27: 'synergy, and enhance AI with vector databases, culminating in practical RAG system integration for accurate, contextual responses. Session 3 Function Calling and Code Generation Leverage GPT-4 for code generation, implementing function calls, and task-performing capabilities. Session 4 Vision and Audio Integrate vision, audio, image generation with DALL-E, and speech-to-text with Whisper. Session 5 Advanced AI Engineering Customize LLMs, enhance training with quantization, develop AI agents and scale AI solutions. Session 6 Demo Day Showcase projects, engage in interactive Q&A with experts, and explore networking opportunities. Graduate Testimonials Noah Lee, our newest AIX Academy Graduate',\n",
       " 28: 'explore networking opportunities. Graduate Testimonials Noah Lee, our newest AIX Academy Graduate I am really glad I did the course as it introduced me to the basics of AI and how to use LLMs in practical settings. I was able to test out my own chat bot using new techniques and am able to follow new developments in AI a lot more clearly after the bootcamp. It was also a cool and a low time commitment. Considering the emphasis so many businesses are placing in AI and LLMs, I would definitely recommend taking\\xa0the\\xa0bootcamp. Jeyshalini Tevosha, Data & AI Consultant at GradientX I am very pleased with the course as it introduced me to the basics of AI and practical uses of LLMs. The bootcamp',\n",
       " 29: 'with the course as it introduced me to the basics of AI and practical uses of LLMs. The bootcamp allowed me to create my own chatbot and stay updated with the latest AI developments. It’s a great course for anyone looking to understand AI better and apply it in real-world\\xa0scenarios. Application Process 3 Simple Steps Apply Online Begin your application by filling out our online form. Provide basic information about your background and your motivation for joining the AI Engineering Bootcamp. Complete AI Readiness Quiz Take our brief, engaging AI Readiness Quiz. This quiz is designed to: Gauge your current understanding of AI concepts. Assess your problem-solving skills. Help you identify',\n",
       " 30: 'your current understanding of AI concepts. Assess your problem-solving skills. Help you identify areas for growth Don’t worry if you’re new to AI – this quiz is meant to establish a baseline and help us tailor the bootcamp experience. Await Your Results Our team will review your application and quiz results. Successful candidates will receive an admission offer and next steps to secure their spot in the upcoming bootcamp cohort. At AIX Academy, we believe in equal opportunity and potential. Our streamlined process is designed to identify motivated individuals ready to transform their careers, regardless of their current AI knowledge\\xa0level. Apply Now Application Process 3 Simple Steps Apply',\n",
       " 31: 'regardless of their current AI knowledge\\xa0level. Apply Now Application Process 3 Simple Steps Apply Online Preparatory Learning Await Your Results Apply Now Course Schedule Next Upcoming Cohort COST RM 4,000 COURSE CODE ZTH:PAIE DATES 20 Aug – 3 Sep, 2024 APPLICATION DEADLINE 19 Aug, 2024 COST RM 4,000 COURSE CODE ZTH:PAIE DATES 20 Aug – 3 Sep, 2024 APPLICATION DEADLINE 19 Aug, 2024 Apply Now Waiting List Can’t find your preferred timing? Join our waiting list to receive updates on new intake dates. Join the AIX Waiting List Frequently Asked Questions What is the refund policy? Partial refunds are available for the first half of the bootcamp. Refund amount is calculated based on the number',\n",
       " 32: 'are available for the first half of the bootcamp. Refund amount is calculated based on the number of days attended, minus a non-refundable commitment fee. No refunds are offered after the 50% mark of the bootcamp duration. To request a refund, please email us at hello@aixacademy.com . What can I do at the end of the program? By the end of the Zero-to-Hero: Practical AI Engineering program, you’ll be equipped to build and deploy sophisticated AI models and applications. For example, at the end of the program, you will be able to develop AI chatbots with advanced capabilities, create and manipulate images using DALL-E, and integrate speech-to-text functionality into your projects.',\n",
       " 33: 'and manipulate images using DALL-E, and integrate speech-to-text functionality into your projects. Additionally, you’ll have a portfolio of projects demonstrating your proficiency in practical\\xa0AI\\xa0development. Do I need prior experience in programming or AI? Our course is designed as a “Zero-to-Hero” program, making it accessible to beginners. While prior programming experience is helpful, it’s not mandatory. We start with Python fundamentals and progressively build up to advanced AI concepts. If you’re completely new to programming, we recommend dedicating extra time to the initial sessions to ensure a strong foundation. What are the job prospects after completing this course? The job',\n",
       " 34: 'to ensure a strong foundation. What are the job prospects after completing this course? The job market for AI engineers is booming, and our course prepares you for various roles: AI Engineer Developing AI-powered chat-bots for customer service. Machine Learning Engineer Data Scientist with AI specialization AI Applications Developer AI Research Associate AI Solutions Architect Many of our graduates have secured positions in top tech companies, while others have successfully integrated AI capabilities into their current roles, leading to promotions and new opportunities. Can I start my own AI-focused company after this course? Absolutely! Our course provides you with the technical skills and',\n",
       " 35: 'company after this course? Absolutely! Our course provides you with the technical skills and practical knowledge needed to build AI-powered solutions. Many of our alumni have gone on to start successful AI ventures. The course covers not just the technology, but also real-world applications and industry trends, giving you insights for potential business opportunities. Additionally, our networking sessions and demo day provide excellent platforms to connect with potential co-founders or investors. While starting a company requires additional business acumen, this course will give you the technical foundation and industry connections to take that entrepreneurial leap in the AI space. Menu',\n",
       " 36: 'foundation and industry connections to take that entrepreneurial leap in the AI space. Menu Quick Links Contact Home About Us Contact Us Our Blogs Our Program AIX Academy by GradientX Sdn. Bhd. (202101021755) Address: Level 3A, Glo Damansara, 699 Jalan Damansara, 60000 Kuala Lumpur, Malaysia Contact: hello@aixacademy.com Connect with Us on Social Media. © Copyright AIX Academy by GradientX Sdn Bhd Terms & Conditions | Privacy Policy Menu Home About Us Contact Us Quick Links Our Blogs Our Program Contact AIX Academy by GradientX Sdn. Bhd. ( 202101021755 ) Address: Level 3A, Glo Damansara, 699 Jalan Damansara, 60000 Kuala Lumpur, Malaysia Contact: hello@aixacademy.com © Copyright AIX Academy',\n",
       " 37: 'Jalan Damansara, 60000 Kuala Lumpur, Malaysia Contact: hello@aixacademy.com © Copyright AIX Academy by GradientX Sdn Bhd Terms & Conditions | Privacy Policy',\n",
       " 38: 'full-stack-ai-engineering/. Full Stack AI Engineering – AIX Academy Our Full Stack AI Engineering Course is COMING SOON Menu Quick Links Contact Home About Us Contact Us Our Blogs Our Program AIX Academy by GradientX Sdn. Bhd. (202101021755) Address: Level 3A, Glo Damansara, 699 Jalan Damansara, 60000 Kuala Lumpur, Malaysia Contact: hello@aixacademy.com Connect with Us on Social Media. © Copyright AIX Academy by GradientX Sdn Bhd Terms & Conditions | Privacy Policy Menu Home About Us Contact Us Quick Links Our Blogs Our Program Contact AIX Academy by GradientX Sdn. Bhd. ( 202101021755 ) Address: Level 3A, Glo Damansara, 699 Jalan Damansara, 60000 Kuala Lumpur, Malaysia Contact: hello@aixacademy.com © Copyright AIX Academy by GradientX Sdn Bhd Terms & Conditions | Privacy Policy',\n",
       " 39: 'aix-academy-syllabus. Zero-to-Hero: Practical AI Engineering Duration: 3 Weeks No. of Session: 6 Sessions Learning Method: Online Learning Course Overview This course offers a fast-tracked introduction to Artificial Intelligence (AI) and Large Language Models (LLMs), focusing on practical implementation using tools like OpenAI APIs and Langchain. Over six sessions, participants will learn to integrate AI features into applications, covering text generation, function calling, image creation, and more. The course concludes with a demo day and an introduction to advanced AI topics, preparing students for further exploration and development in AI engineering. Prerequisites Participants should',\n",
       " 40: \"for further exploration and development in AI engineering. Prerequisites Participants should possess: • Basic programming knowledge. • No prior knowledge in AI, machine learning, or data science is required. Course Outline 1. Foundations of AI and Large Language Models (LLMs) • Introduction to AI: Discover AI's transformative impact across various fields. • Understanding GPTs and LLMs: Explore the history, evolution, and mechanics of transformer and generative language models. • Creating Your First AI Chatbot: Get hands-on with the OpenAI API to develop a basic chatbot. • OpenAI APIs: Practical insights into API integration for dynamic applications. 2. Prompt Engineering and\",\n",
       " 41: 'APIs: Practical insights into API integration for dynamic applications. 2. Prompt Engineering and Retrieval-Augmented Generation (RAG) • Prompt Engineering: Techniques to craft effective prompts for desired outcomes. • RAG Fundamentals: Understand the synergy between retrieval and generation. • Vector Databases & Embeddings: Learn how vector databases enhance AI by efficiently storing and retrieving high-dimensional embeddings, optimizing semantic search and LLM performance • Implementing RAG Systems: Step-by-step guide to integrating RAG into your chatbot for more accurate and contextual responses. 3. Function Calling and Code Generation • Code Generation with GPT-4: Learn how to leverage',\n",
       " 42: '3. Function Calling and Code Generation • Code Generation with GPT-4: Learn how to leverage on LLM to do code generation to augment programming tasks. • Enhancing Applications with Function Calling: Implementing function calls and tool use with practical examples. • Advanced Bot Capabilities: Develop a chatbot that can perform tasks like math and code generation. 4. Vision and Audio • Multi-Modal Capabilities: Integrate vision and audio into your AI projects. • Image Generation with DALL-E: Create and manipulate images using DALL-E, exploring its potential in various applications. • Speech-to-Text with Whisper: Convert speech into text seamlessly and integrate this functionality into your',\n",
       " 43: 'with Whisper: Convert speech into text seamlessly and integrate this functionality into your applications. 5. Advanced AI Engineering • Fine-Tuning Models: Customize LLMs for specific tasks and domains. • Quantization Techniques: Enhance model training efficiency through LoRA and QLoRA. • Building AI Agents: Develop autonomous AI systems using the techniques learned. • Evaluating AI Performance: Metrics and methodologies for robust evaluation. • Scaling AI Solutions: Strategies for deploying and scaling AI in production environments. 6. Demo Day • Project Showcase • Interactive Q&A: Engage with experts from both industry and academia • Networking Opportunities: Discuss future collaborations',\n",
       " 44: \"experts from both industry and academia • Networking Opportunities: Discuss future collaborations and opportunities. What You Will Learn This 3 weeks intensive course is designed to equip you with practical skills and tools needed to engineer and deploy artificial intelligence solutions. You'll learn through a combination of theoretical lessons and hands-on projects, covering the latest advancements in AI, from large language models to multi-modal applications. This track emphasizes practical implementation and real-world applications of AI technologies. • Develop proficiency in working with Large Language Models (LLMs) and the OpenAI API. • Master prompt engineering techniques for optimal\",\n",
       " 45: 'Large Language Models (LLMs) and the OpenAI API. • Master prompt engineering techniques for optimal AI interactions. • Understand and implement Retrieval-Augmented Generation (RAG) for enhanced contextual responses. • Gain practical experience with vector databases and embeddings for efficient information retrieval. • Learn to leverage AI for code generation and function calling in applications. • Explore multi-modal AI capabilities, including image generation and speech-to-text conversion. • Be introduced to advanced AI engineering concepts like fine-tuning, quantization, and AI agents. • Understand strategies for evaluating and scaling AI solutions in production environments. What You',\n",
       " 46: \"Understand strategies for evaluating and scaling AI solutions in production environments. What You Will Gain • Ability to build and deploy sophisticated AI models and applications. • Proficiency in cutting-edge AI tools and frameworks, including OpenAI's GPT models, DALL-E, and Whisper. • Network with like-minded individuals, collaborate on projects, and gain valuable insights into the rapidly evolving field of AI engineering. • Portfolio of projects demonstrating proficiency in practical AI development, from chatbots to multi-modal applications. • Career transformation by gaining the knowledge and skills to tackle real-world AI challenges, suitable for both newcomers and experienced\",\n",
       " 47: 'and skills to tackle real-world AI challenges, suitable for both newcomers and experienced professionals looking to upgrade their AI engineering capabilities. Target Audience • Aspiring developers interested in AI • Software engineers • AI Enthusiasts • Indie Hackers • Data Engineers • Data Analysts • Data Scientists',\n",
       " 48: 'about-us/. About Us – AIX Academy Welcome to AIX Academy. AIX Academy’s mission is to empower individuals and organizations with the necessary skills for anyone to build and launch AI applications into the world. Why AIX Academy? Industrial partners opportunities. Practical for career development. Practical for career development. AIX BRAND STORY AIX BRAND STORY The parent company of AI X Academy, GradientX, first began exclusively as an AI consulting and implementation organization. Along the company’s journey, requests for AI training and upskilling surged due to the value of successful AI implementations in various industries today, examples include ChatGPT and Sora. AI implementation has also been accelerated on account of advancements of processing speed, cloud computing and affordable storage. Amidst the growing prominence of AI, one of the founders of the academy, Peter Kua,\\xa0 once grappled with doubts similar to many aspiring trainees. Now, we’re here to empower individuals from various types of backgrounds to discover their potential in practical AI and excel in the dynamic field. Thus, an academy of in-house courses headed by HRDC certified trainers was created. AI X Academy is a representation and embodiment of the next step in GradientX’s roadmap – upskilling individuals in the latest AI trends such as Large Language Models (LLMs) and generative AI. Our main commitment is to upskill individuals in practical AI as well as become an established regional leader in AI thought. Our courses are anchored to real-life business cases and curated by industry experts. A hands-on experience and opportunities to network with industrial partners are both components of the accelerated learning journey AI X Academy will provide you with to build practical AI solutions and propel a career in technology forward. MEET THE AIX Academy Team Lyla Evans Advisor Alan Chong Program Coordinator Derek Parker Curriculum Manager Alia Abdul Artificial Intelligence Instructor learn WITH aix academy At AIX Academy, we are dedicated to fostering an inclusive and supportive learning environment where all students can thrive. We believe that diversity in our student body enriches the educational experience and enhances innovation in AI. Our courses are designed to attract and nurture talented individuals from all backgrounds, equipping them with the skills needed to excel in the ever-evolving field of artificial intelligence. Explore Courses Menu Quick Links Contact Home About Us Contact Us Our Blogs Our Program AIX Academy by GradientX Sdn. Bhd. (202101021755) Address: Level 3A, Glo Damansara, 699 Jalan Damansara, 60000 Kuala Lumpur, Malaysia Contact: hello@aixacademy.com Connect with Us on Social Media. © Copyright AIX Academy by GradientX Sdn Bhd Terms & Conditions | Privacy Policy Menu Home About Us Contact Us Quick Links Our Blogs Our Program Contact AIX Academy by GradientX Sdn. Bhd. ( 202101021755 ) Address: Level 3A, Glo Damansara, 699 Jalan Damansara, 60000 Kuala Lumpur, Malaysia Contact: hello@aixacademy.com © Copyright AIX Academy by GradientX Sdn Bhd Terms & Conditions | Privacy Policy',\n",
       " 49: 'terms-conditions/. Terms & Conditions – AIX Academy Terms & Conditions Terms and Conditions Effective Date: July 1, 2024 Welcome to AIX Academy, an educational platform provided by GradientX Sdn. Bhd. (“we”, “us”, “our”). These Terms and Conditions (“Terms”) govern your access to and use of the AIX Academy website (the “Service”). By accessing or using the Service, you agree to be bound by these Terms. If you do not agree with any part of these Terms, you may not access the Service. 1. General Terms 1.1. Acceptance of Terms You must read, agree to, and accept all of the terms and conditions contained in these Terms to use our Service. We reserve the right to modify these Terms at any time',\n",
       " 50: 'contained in these Terms to use our Service. We reserve the right to modify these Terms at any time without prior notice. Your continued use of the Service after modifications constitutes your acceptance of the updated Terms. 1.2. Description of Service AIX Academy provides educational courses and resources related to artificial intelligence and machine learning. These materials are intended for educational purposes only and do not constitute professional advice. 1.3. Access to the Service Access to certain areas of the Service may require registration. You agree to provide accurate, current, and complete information during the registration process and to update such information to keep it',\n",
       " 51: 'and complete information during the registration process and to update such information to keep it accurate, current, and complete. 1.4. Prohibited Uses You agree not to engage in any of the following prohibited activities: Violating any laws or regulations. Infringing on any intellectual property rights of others. Uploading or transmitting viruses or any other malicious code. Engaging in spamming, phishing, or any form of unsolicited advertising. Impersonating any person or entity, or misrepresenting your affiliation with a person or entity. Interfering with or disrupting the Service or servers or networks connected to the Service. 1.5. Termination We reserve the right to terminate or',\n",
       " 52: 'servers or networks connected to the Service. 1.5. Termination We reserve the right to terminate or suspend your access to the Service immediately, without prior notice or liability, for any reason whatsoever, including without limitation if you breach these Terms. 2. User Accounts 2.1. Account Creation In order to use certain features of the Service, you may be required to create an account. You must be at least 18 years old to create an account. 2.2. Account Responsibilities You are responsible for maintaining the confidentiality of your account login information and for all activities that occur under your account. You agree to notify us immediately of any unauthorized use of your',\n",
       " 53: 'that occur under your account. You agree to notify us immediately of any unauthorized use of your account or any other breach of security. 2.3. Account Termination We reserve the right to refuse service, terminate accounts, remove or edit content, or cancel orders in our sole discretion. 3. Payment and Refund Policy 3.1. Payment Certain features of the Service may require payment of fees. You agree to pay all fees and charges incurred through your account at the rates in effect for the billing period. 3.2. Refund Policy We may offer refunds within a specified period for certain paid services, subject to our discretion and the terms specified at the time of purchase. 4. Intellectual Property',\n",
       " 54: 'subject to our discretion and the terms specified at the time of purchase. 4. Intellectual Property 4.1. Ownership The Service and its original content, features, and functionality are owned by GradientX Sdn. Bhd. and are protected by international copyright, trademark, patent, trade secret, and other intellectual property or proprietary rights laws. 4.2. Use of Content You may access and use the content and materials provided on the Service solely for your personal, non-commercial use. You may not modify, reproduce, distribute, create derivative works of, publicly display, publicly perform, republish, download, store, or transmit any of the material on our Service. 5. Links to Third-Party',\n",
       " 55: 'republish, download, store, or transmit any of the material on our Service. 5. Links to Third-Party Websites 5.1. Third-Party Links The Service may contain links to third-party websites or services that are not owned or controlled by GradientX Sdn. Bhd. We have no control over, and assume no responsibility for, the content, privacy policies, or practices of any third-party websites or services. 6. Limitation of Liability 6.1. Disclaimer of Warranties The Service is provided “as is” and “as available” without warranties of any kind, either express or implied, including, but not limited to, implied warranties of merchantability, fitness for a particular purpose, or non-infringement. 6.2.',\n",
       " 56: 'implied warranties of merchantability, fitness for a particular purpose, or non-infringement. 6.2. Limitation of Liability In no event shall GradientX Sdn. Bhd., nor its directors, employees, partners, agents, suppliers, or affiliates, be liable for any indirect, incidental, special, consequential, or punitive damages, including without limitation, loss of profits, data, use, goodwill, or other intangible losses, resulting from: Your access to or use of or inability to access or use the Service. Any conduct or content of any third party on the Service. Any content obtained from the Service. Unauthorized access, use, or alteration of your transmissions or content. 7. Governing Law and',\n",
       " 57: 'Unauthorized access, use, or alteration of your transmissions or content. 7. Governing Law and Dispute Resolution 7.1. Governing Law These Terms shall be governed by and construed in accordance with the laws of Malaysia, without regard to its conflict of law provisions. 7.2. Dispute Resolution Any dispute arising out of or in connection with these Terms or your use of the Service shall be resolved exclusively by the courts of Malaysia. 8. Contact Us If you have any questions about these Terms, please contact us at hello@aixacademy.com . Menu Quick Links Contact Home About Us Contact Us Our Blogs Our Program AIX Academy by GradientX Sdn. Bhd. (202101021755) Address: Level 3A, Glo Damansara,',\n",
       " 58: 'Our Program AIX Academy by GradientX Sdn. Bhd. (202101021755) Address: Level 3A, Glo Damansara, 699 Jalan Damansara, 60000 Kuala Lumpur, Malaysia Contact: hello@aixacademy.com Connect with Us on Social Media. © Copyright AIX Academy by GradientX Sdn Bhd Terms & Conditions | Privacy Policy Menu Home About Us Contact Us Quick Links Our Blogs Our Program Contact AIX Academy by GradientX Sdn. Bhd. ( 202101021755 ) Address: Level 3A, Glo Damansara, 699 Jalan Damansara, 60000 Kuala Lumpur, Malaysia Contact: hello@aixacademy.com © Copyright AIX Academy by GradientX Sdn Bhd Terms & Conditions | Privacy Policy',\n",
       " 59: 'author/eric/. Eric Tan – AIX Academy Author: Eric Tan The Birth of Our AIX Academy In this article, we want to share the story behind our AI Academy, how the concept was born, and our vision for the future. A World of Opportunities in Artificial Intelligence \\xa0 \\xa0 \\xa0With decades of combined experience in the data science and AI field, our team has witnessed the transformative impact of artificial intelligence […] Menu Quick Links Contact Home About Us Contact Us Our Blogs Our Program AIX Academy by GradientX Sdn. Bhd. (202101021755) Address: Level 3A, Glo Damansara, 699 Jalan Damansara, 60000 Kuala Lumpur, Malaysia Contact: hello@aixacademy.com Connect with Us on Social Media. © Copyright AIX Academy by GradientX Sdn Bhd Terms & Conditions | Privacy Policy Menu Home About Us Contact Us Quick Links Our Blogs Our Program Contact AIX Academy by GradientX Sdn. Bhd. ( 202101021755 ) Address: Level 3A, Glo Damansara, 699 Jalan Damansara, 60000 Kuala Lumpur, Malaysia Contact: hello@aixacademy.com © Copyright AIX Academy by GradientX Sdn Bhd Terms & Conditions | Privacy Policy'}"
      ]
     },
     "execution_count": 17,
     "metadata": {},
     "output_type": "execute_result"
    }
   ],
   "source": [
    "id_to_text = {i: text for i, text in enumerate(df['text'])}\n",
    "id_to_text"
   ]
  },
  {
   "cell_type": "code",
   "execution_count": 18,
   "id": "0fe584ca-d52d-4041-a515-a8ffa5372667",
   "metadata": {},
   "outputs": [],
   "source": [
    "faiss.write_index(index, '../faiss_index.index')"
   ]
  },
  {
   "cell_type": "code",
   "execution_count": 19,
   "id": "39953b36-86d2-4fd4-860a-70b859e4b798",
   "metadata": {},
   "outputs": [],
   "source": [
    "import pickle \n",
    "with open('../id_to_text.pkl', 'wb') as f:\n",
    "    pickle.dump(id_to_text, f)"
   ]
  }
 ],
 "metadata": {
  "kernelspec": {
   "display_name": "Python 3 (ipykernel)",
   "language": "python",
   "name": "python3"
  },
  "language_info": {
   "codemirror_mode": {
    "name": "ipython",
    "version": 3
   },
   "file_extension": ".py",
   "mimetype": "text/x-python",
   "name": "python",
   "nbconvert_exporter": "python",
   "pygments_lexer": "ipython3",
   "version": "3.10.0"
  }
 },
 "nbformat": 4,
 "nbformat_minor": 5
}
